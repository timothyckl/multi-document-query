{
 "cells": [
  {
   "cell_type": "code",
   "execution_count": 1,
   "metadata": {},
   "outputs": [],
   "source": [
    "import os\n",
    "import openai\n",
    "from dotenv import load_dotenv\n",
    "from langchain.llms import OpenAI\n",
    "from llama_index.vector_stores import SimpleVectorStore\n",
    "from llama_index.indices.composability import ComposableGraph\n",
    "from llama_index.indices.query.query_transform.base import DecomposeQueryTransform\n",
    "from llama_index.query_engine.transform_query_engine import TransformQueryEngine\n",
    "from llama_index.callbacks import CallbackManager, LlamaDebugHandler\n",
    "from llama_index import (\n",
    "    Prompt,\n",
    "    LLMPredictor,\n",
    "    GPTSimpleKeywordTableIndex,\n",
    "    VectorStoreIndex, \n",
    "    SimpleDirectoryReader, \n",
    "    ServiceContext, \n",
    "    StorageContext, \n",
    "    load_index_from_storage,\n",
    ")"
   ]
  },
  {
   "cell_type": "code",
   "execution_count": 2,
   "metadata": {},
   "outputs": [],
   "source": [
    "load_dotenv()\n",
    "openai.api_key = os.getenv(\"OPENAI_API_KEY\")"
   ]
  },
  {
   "cell_type": "code",
   "execution_count": 3,
   "metadata": {},
   "outputs": [
    {
     "name": "stdout",
     "output_type": "stream",
     "text": [
      "LLM loaded!\n"
     ]
    }
   ],
   "source": [
    "# initialize model, service and storage context\n",
    "text_davinci = OpenAI(model=\"text-davinci-003\", temperature=0.6, max_tokens=2048)\n",
    "llm_predictor = LLMPredictor(text_davinci)\n",
    "\n",
    "llama_debug = LlamaDebugHandler(print_trace_on_end=True)\n",
    "callback_manager = CallbackManager([llama_debug])\n",
    "service_context = ServiceContext.from_defaults(llm_predictor=llm_predictor, callback_manager=callback_manager)\n",
    "storage_context = StorageContext.from_defaults(vector_store=SimpleVectorStore())\n",
    "\n",
    "print(\"LLM loaded!\")"
   ]
  },
  {
   "cell_type": "code",
   "execution_count": 4,
   "metadata": {},
   "outputs": [
    {
     "name": "stdout",
     "output_type": "stream",
     "text": [
      "Documents loaded!\n"
     ]
    }
   ],
   "source": [
    "# load all pdf documents\n",
    "data_dir = './data/'\n",
    "pdf_docs = {}\n",
    "\n",
    "for file in os.listdir(data_dir):\n",
    "    fname = file.split('.')[0]\n",
    "    pdf_docs[fname] = SimpleDirectoryReader(input_files=[data_dir + file]).load_data()\n",
    "    \n",
    "print('Documents loaded!')"
   ]
  },
  {
   "cell_type": "code",
   "execution_count": 5,
   "metadata": {},
   "outputs": [
    {
     "name": "stdout",
     "output_type": "stream",
     "text": [
      "**********\n",
      "Trace: index_construction\n",
      "    |_node_parsing ->  0.14852 seconds\n",
      "      |_chunking ->  0.00281 seconds\n",
      "      |_chunking ->  0.00155 seconds\n",
      "      |_chunking ->  0.001759 seconds\n",
      "      |_chunking ->  0.002081 seconds\n",
      "      |_chunking ->  0.001851 seconds\n",
      "      |_chunking ->  0.001887 seconds\n",
      "      |_chunking ->  0.001941 seconds\n",
      "      |_chunking ->  0.001614 seconds\n",
      "      |_chunking ->  0.001467 seconds\n",
      "      |_chunking ->  0.000672 seconds\n",
      "      |_chunking ->  0.00125 seconds\n",
      "      |_chunking ->  0.00125 seconds\n",
      "      |_chunking ->  0.001619 seconds\n",
      "      |_chunking ->  0.000681 seconds\n",
      "      |_chunking ->  0.000862 seconds\n",
      "      |_chunking ->  0.001261 seconds\n",
      "      |_chunking ->  0.000923 seconds\n",
      "      |_chunking ->  0.000763 seconds\n",
      "      |_chunking ->  0.000857 seconds\n",
      "      |_chunking ->  0.000706 seconds\n",
      "      |_chunking ->  0.00089 seconds\n",
      "      |_chunking ->  0.001398 seconds\n",
      "      |_chunking ->  0.001038 seconds\n",
      "      |_chunking ->  0.001096 seconds\n",
      "      |_chunking ->  0.001322 seconds\n",
      "      |_chunking ->  0.001 seconds\n",
      "      |_chunking ->  0.000679 seconds\n",
      "      |_chunking ->  0.000956 seconds\n",
      "      |_chunking ->  0.000841 seconds\n",
      "      |_chunking ->  0.000943 seconds\n",
      "      |_chunking ->  0.001605 seconds\n",
      "      |_chunking ->  0.001791 seconds\n",
      "      |_chunking ->  0.001609 seconds\n",
      "      |_chunking ->  0.001412 seconds\n",
      "      |_chunking ->  0.001553 seconds\n",
      "      |_chunking ->  0.001689 seconds\n",
      "      |_chunking ->  0.001647 seconds\n",
      "      |_chunking ->  0.000305 seconds\n",
      "      |_chunking ->  0.001834 seconds\n",
      "      |_chunking ->  0.001601 seconds\n",
      "      |_chunking ->  0.001919 seconds\n",
      "      |_chunking ->  0.001038 seconds\n",
      "      |_chunking ->  0.00161 seconds\n",
      "      |_chunking ->  0.00102 seconds\n",
      "      |_chunking ->  0.001593 seconds\n",
      "      |_chunking ->  0.001658 seconds\n",
      "      |_chunking ->  0.00164 seconds\n",
      "      |_chunking ->  0.001745 seconds\n",
      "      |_chunking ->  0.001508 seconds\n",
      "      |_chunking ->  0.001824 seconds\n",
      "      |_chunking ->  0.001373 seconds\n",
      "      |_chunking ->  0.001482 seconds\n",
      "      |_chunking ->  0.001584 seconds\n",
      "      |_chunking ->  0.001705 seconds\n",
      "      |_chunking ->  0.001265 seconds\n",
      "      |_chunking ->  0.001481 seconds\n",
      "      |_chunking ->  0.001414 seconds\n",
      "      |_chunking ->  0.001094 seconds\n",
      "      |_chunking ->  0.00093 seconds\n",
      "      |_chunking ->  0.001234 seconds\n",
      "      |_chunking ->  0.001092 seconds\n",
      "      |_chunking ->  0.001129 seconds\n",
      "      |_chunking ->  0.001584 seconds\n",
      "      |_chunking ->  0.000902 seconds\n",
      "      |_chunking ->  0.000958 seconds\n",
      "      |_chunking ->  0.001744 seconds\n",
      "      |_chunking ->  0.00078 seconds\n",
      "      |_chunking ->  0.001451 seconds\n",
      "      |_chunking ->  0.00133 seconds\n",
      "      |_chunking ->  0.001208 seconds\n",
      "      |_chunking ->  0.00161 seconds\n",
      "      |_chunking ->  0.001439 seconds\n",
      "      |_chunking ->  0.001428 seconds\n",
      "      |_chunking ->  0.001324 seconds\n",
      "      |_chunking ->  0.001651 seconds\n",
      "      |_chunking ->  0.0011 seconds\n",
      "      |_chunking ->  0.001659 seconds\n",
      "      |_chunking ->  0.0015 seconds\n",
      "      |_chunking ->  0.000445 seconds\n",
      "      |_chunking ->  0.001774 seconds\n",
      "      |_chunking ->  0.001725 seconds\n",
      "      |_chunking ->  0.001503 seconds\n",
      "      |_chunking ->  0.000614 seconds\n",
      "      |_chunking ->  0.000993 seconds\n",
      "      |_chunking ->  0.001268 seconds\n",
      "      |_chunking ->  0.001306 seconds\n",
      "      |_chunking ->  0.001357 seconds\n",
      "      |_chunking ->  0.001278 seconds\n",
      "      |_chunking ->  0.00127 seconds\n",
      "      |_chunking ->  0.001365 seconds\n",
      "      |_chunking ->  0.001257 seconds\n",
      "      |_chunking ->  0.001179 seconds\n",
      "      |_chunking ->  0.001243 seconds\n",
      "      |_chunking ->  0.001482 seconds\n",
      "      |_chunking ->  0.001339 seconds\n",
      "      |_chunking ->  0.001273 seconds\n",
      "      |_chunking ->  0.00132 seconds\n",
      "      |_chunking ->  0.0013 seconds\n",
      "      |_chunking ->  0.00145 seconds\n",
      "      |_chunking ->  0.001337 seconds\n",
      "      |_chunking ->  0.001359 seconds\n",
      "      |_chunking ->  0.001336 seconds\n",
      "      |_chunking ->  0.001372 seconds\n",
      "      |_chunking ->  0.001328 seconds\n",
      "      |_chunking ->  0.001385 seconds\n",
      "      |_chunking ->  0.001285 seconds\n",
      "      |_chunking ->  0.000344 seconds\n",
      "    |_embedding ->  0.966846 seconds\n",
      "    |_embedding ->  1.043453 seconds\n",
      "    |_embedding ->  0.828814 seconds\n",
      "    |_embedding ->  1.166862 seconds\n",
      "    |_embedding ->  0.996946 seconds\n",
      "    |_embedding ->  0.878694 seconds\n",
      "    |_embedding ->  0.999392 seconds\n",
      "    |_embedding ->  0.807759 seconds\n",
      "    |_embedding ->  1.172629 seconds\n",
      "    |_embedding ->  1.004719 seconds\n",
      "    |_embedding ->  0.837849 seconds\n",
      "**********\n",
      "**********\n",
      "Trace: index_construction\n",
      "    |_node_parsing ->  0.057678 seconds\n",
      "      |_chunking ->  0.028057 seconds\n",
      "      |_chunking ->  0.015858 seconds\n",
      "      |_chunking ->  0.00586 seconds\n",
      "      |_chunking ->  0.00195 seconds\n",
      "      |_chunking ->  0.001091 seconds\n",
      "      |_chunking ->  0.003637 seconds\n",
      "    |_embedding ->  0.963727 seconds\n",
      "    |_embedding ->  0.512306 seconds\n",
      "**********\n",
      "Indices built!\n"
     ]
    }
   ],
   "source": [
    "# build pdf document indices\n",
    "pdf_indices = {}\n",
    "index_summaries = {}\n",
    "\n",
    "for title in pdf_docs.keys():\n",
    "    pdf_indices[title] = VectorStoreIndex.from_documents(pdf_docs[title], service_context=service_context, storage_context=storage_context)\n",
    "    \n",
    "    # set summary text for documents\n",
    "    index_summaries[title] = f\"Technical paper about {title}\"\n",
    "    \n",
    "print('Indices built!')"
   ]
  },
  {
   "cell_type": "code",
   "execution_count": 6,
   "metadata": {},
   "outputs": [
    {
     "name": "stdout",
     "output_type": "stream",
     "text": [
      "Graph created!\n"
     ]
    }
   ],
   "source": [
    "# create composable graph\n",
    "graph = ComposableGraph.from_indices(\n",
    "   root_index_cls=GPTSimpleKeywordTableIndex,\n",
    "   children_indices=[index for _, index in pdf_indices.items()],\n",
    "   index_summaries=[summary for _, summary in index_summaries.items()],\n",
    "   max_keywords_per_chunk=100\n",
    ")\n",
    "\n",
    "decompose_transform = DecomposeQueryTransform(llm_predictor, verbose=True)\n",
    "\n",
    "print('Graph created!')"
   ]
  },
  {
   "cell_type": "code",
   "execution_count": 7,
   "metadata": {},
   "outputs": [
    {
     "name": "stdout",
     "output_type": "stream",
     "text": [
      "Query engine mapped!\n"
     ]
    }
   ],
   "source": [
    "# create query engine mapping\n",
    "custom_query_engines = {}\n",
    "\n",
    "for index in pdf_indices.values():\n",
    "    query_engine = index.as_query_engine(service_context=service_context)\n",
    "    transform_extra_info = {'index_summary': index.index_struct.summary}\n",
    "    tranformed_query_engine = TransformQueryEngine(query_engine, decompose_transform, \n",
    "                                                    transform_metadata=transform_extra_info)\n",
    "    custom_query_engines[index.index_id] = tranformed_query_engine\n",
    "    \n",
    "print('Query engine mapped!')"
   ]
  },
  {
   "cell_type": "code",
   "execution_count": 8,
   "metadata": {},
   "outputs": [
    {
     "name": "stdout",
     "output_type": "stream",
     "text": [
      "Root query engine created!\n"
     ]
    }
   ],
   "source": [
    "# create root query engine in summarize mode\n",
    "custom_query_engines[graph.root_index.index_id] = graph.root_index.as_query_engine(\n",
    "   retriever_mode='simple',\n",
    "   response_mode='tree_summarize',\n",
    "   service_context=service_context\n",
    ")\n",
    "\n",
    "query_engine_decompose = graph.as_query_engine(custom_query_engines=custom_query_engines)\n",
    "\n",
    "print('Root query engine created!')"
   ]
  },
  {
   "cell_type": "code",
   "execution_count": 14,
   "metadata": {},
   "outputs": [
    {
     "name": "stdout",
     "output_type": "stream",
     "text": [
      "\u001b[33;1m\u001b[1;3m> Current query: What is three-step phase shifting and what are the steps involved in the algorithm? Explain in simple terms.\n",
      "\u001b[0m\u001b[38;5;200m\u001b[1;3m> New query:  What is the Fast-Three-Step-Phase-Shifting-Algorithm and how does it work?\n",
      "\u001b[0m\u001b[33;1m\u001b[1;3m> Current query: What is three-step phase shifting and what are the steps involved in the algorithm? Explain in simple terms.\n",
      "\u001b[0m\u001b[38;5;200m\u001b[1;3m> New query:  What is the Fast-Three-Step-Phase-Shifting-Algorithm and what are the steps involved? Explain in simple terms.\n",
      "\u001b[0m\u001b[33;1m\u001b[1;3m> Current query: What is three-step phase shifting and what are the steps involved in the algorithm? Explain in simple terms.\n",
      "\u001b[0m\u001b[38;5;200m\u001b[1;3m> New query:  What are the three steps involved in the Phase-Shifting-Algorithm used in Fringe-Projection-Profilometry?\n",
      "\u001b[0m\u001b[33;1m\u001b[1;3m> Current query: What is three-step phase shifting and what are the steps involved in the algorithm? Explain in simple terms.\n",
      "\u001b[0m\u001b[38;5;200m\u001b[1;3m> New query:  What are the three steps involved in a phase-shifting algorithm for fringe projection profilometry?\n",
      "\u001b[0m\n",
      "Three-step phase shifting is an algorithm used to measure the three-dimensional (3D) shape of an object. It involves taking three images of the object at different phase shifts and then analyzing the images to calculate the phase shift, amplitude, and intensity at each pixel. The Fast-Three-Step-Phase-Shifting-Algorithm is an improvement on the traditional three-step algorithm, which involves calculating an arctangent function. The Fast-Three-Step-Phase-Shifting-Algorithm replaces this calculation with a simple intensity ratio calculation, which is much faster. The steps involved in this algorithm are as follows:\n",
      "\n",
      "1. Calculate the phase values of the fringe patterns in the range of 0 to 2/H9266.\n",
      "2. Remove the 2/H9266 discontinuity to generate a smooth phase map of the object.\n",
      "3. Use a simple intensity ratio function to replace the arctangent function in the traditional algorithm.\n",
      "4. Compensate for the phase error caused by this new algorithm using a lookup table.\n"
     ]
    }
   ],
   "source": [
    "# query over multiple documents\n",
    "query = \"What is three-step phase shifting and what are the steps involved in the algorithm? Explain in simple terms.\"\n",
    "response = query_engine_decompose.query(query)\n",
    "print(response)"
   ]
  },
  {
   "cell_type": "code",
   "execution_count": null,
   "metadata": {},
   "outputs": [
    {
     "name": "stdout",
     "output_type": "stream",
     "text": [
      ">>> what is phase unwrapping and why is it needed?\n",
      "\u001b[33;1m\u001b[1;3m> Current query: what is phase unwrapping and why is it needed?\n",
      "\u001b[0m\u001b[38;5;200m\u001b[1;3m> New query:  What is the Fast-Three-Step-Phase-Shifting-Algorithm and how does it relate to phase unwrapping?\n",
      "\u001b[0m\u001b[33;1m\u001b[1;3m> Current query: what is phase unwrapping and why is it needed?\n",
      "\u001b[0m\u001b[38;5;200m\u001b[1;3m> New query:  What is the Fast-Three-Step-Phase-Shifting-Algorithm and how does it use phase unwrapping?\n",
      "\u001b[0m"
     ]
    }
   ],
   "source": [
    "while True:\n",
    "    query = input('>>> ')\n",
    "    response = query_engine_decompose.query(query)\n",
    "    print(response)"
   ]
  },
  {
   "cell_type": "code",
   "execution_count": null,
   "metadata": {},
   "outputs": [],
   "source": []
  }
 ],
 "metadata": {
  "kernelspec": {
   "display_name": "Python 3 (ipykernel)",
   "language": "python",
   "name": "python3"
  },
  "language_info": {
   "codemirror_mode": {
    "name": "ipython",
    "version": 3
   },
   "file_extension": ".py",
   "mimetype": "text/x-python",
   "name": "python",
   "nbconvert_exporter": "python",
   "pygments_lexer": "ipython3",
   "version": "3.10.10"
  }
 },
 "nbformat": 4,
 "nbformat_minor": 2
}
